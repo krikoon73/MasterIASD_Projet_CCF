{
 "cells": [
  {
   "cell_type": "code",
   "execution_count": 1,
   "metadata": {},
   "outputs": [],
   "source": [
    "import findspark\n",
    "findspark.init()\n",
    "from pyspark.sql import SparkSession \n",
    "from pyspark import SparkConf,SparkContext\n",
    "from pyspark.sql.types import ArrayType, StructField, StructType, StringType, IntegerType\n",
    "from pyspark.sql import SQLContext\n",
    "from pyspark.sql.functions import greatest,least\n",
    "import os\n",
    "\n",
    "conf = SparkConf()\n",
    "conf.setMaster('local')\n",
    "conf.setAppName('pyspark-shell')\n",
    "conf.set('spark.driver.host', '127.0.0.1')\n",
    "conf.set(\"spark.ui.proxyBase\", \"\")\n",
    "conf.set(\"spark.cores.max\",\"4\")\n",
    "conf.set(\"spark.executor.cores\",\"2\")\n",
    "os.environ['PYSPARK_PYTHON'] = '/Users/ccompain/.pyenv/versions/miniconda3-latest/bin/python' # Needs to be explicitly provided as env. Otherwise workers run Python 2.7\n",
    "os.environ['PYSPARK_DRIVER_PYTHON'] = 'jupyter' \n",
    "sc = SparkContext(conf=conf)\n",
    "sqlContext = SQLContext(sc)"
   ]
  },
  {
   "cell_type": "code",
   "execution_count": 2,
   "metadata": {},
   "outputs": [],
   "source": [
    "df = sqlContext.read.csv('file:///Users/ccompain/Documents/code/MasterIASD_spark_project/github/prototype/example.csv')"
   ]
  },
  {
   "cell_type": "code",
   "execution_count": 3,
   "metadata": {},
   "outputs": [
    {
     "name": "stdout",
     "output_type": "stream",
     "text": [
      "+---+---+\n",
      "|_c0|_c1|\n",
      "+---+---+\n",
      "|  A|  B|\n",
      "|  B|  C|\n",
      "|  B|  D|\n",
      "|  D|  E|\n",
      "|  F|  G|\n",
      "|  G|  H|\n",
      "+---+---+\n",
      "\n"
     ]
    }
   ],
   "source": [
    "df.show()"
   ]
  },
  {
   "cell_type": "code",
   "execution_count": 4,
   "metadata": {},
   "outputs": [
    {
     "name": "stdout",
     "output_type": "stream",
     "text": [
      "+---+---+\n",
      "|_c1|_c0|\n",
      "+---+---+\n",
      "|  B|  A|\n",
      "|  C|  B|\n",
      "|  D|  B|\n",
      "|  E|  D|\n",
      "|  G|  F|\n",
      "|  H|  G|\n",
      "+---+---+\n",
      "\n"
     ]
    }
   ],
   "source": [
    "comp_df = df.select(df._c1,df._c0).orderBy(df._c0)\n",
    "comp_df.show()"
   ]
  },
  {
   "cell_type": "code",
   "execution_count": 5,
   "metadata": {},
   "outputs": [
    {
     "name": "stdout",
     "output_type": "stream",
     "text": [
      "+---+---+\n",
      "|_c0|_c1|\n",
      "+---+---+\n",
      "|  A|  B|\n",
      "|  B|  A|\n",
      "|  B|  C|\n",
      "|  B|  D|\n",
      "|  C|  B|\n",
      "|  D|  B|\n",
      "|  D|  E|\n",
      "|  E|  D|\n",
      "|  F|  G|\n",
      "|  G|  F|\n",
      "|  G|  H|\n",
      "|  H|  G|\n",
      "+---+---+\n",
      "\n"
     ]
    }
   ],
   "source": [
    "map1 = df.select(df._c0,df._c1).union(df.select(df._c1,df._c0)).orderBy(df._c0)\n",
    "map1.show()"
   ]
  },
  {
   "cell_type": "code",
   "execution_count": 24,
   "metadata": {},
   "outputs": [
    {
     "name": "stdout",
     "output_type": "stream",
     "text": [
      "+---+\n",
      "|_c1|\n",
      "+---+\n",
      "|  F|\n",
      "|  E|\n",
      "|  B|\n",
      "|  D|\n",
      "|  C|\n",
      "|  A|\n",
      "|  G|\n",
      "|  H|\n",
      "+---+\n",
      "\n"
     ]
    }
   ],
   "source": [
    "#tmp = map1.select(least(df._c0,df._c1))\n",
    "values = map1.select(df._c1).distinct()\n",
    "values.show()\n",
    "\n",
    "tmp = map1.select(df._c0).where(df._c0)\n"
   ]
  },
  {
   "cell_type": "code",
   "execution_count": null,
   "metadata": {},
   "outputs": [],
   "source": []
  }
 ],
 "metadata": {
  "kernelspec": {
   "display_name": "Python 3",
   "language": "python",
   "name": "python3"
  },
  "language_info": {
   "codemirror_mode": {
    "name": "ipython",
    "version": 3
   },
   "file_extension": ".py",
   "mimetype": "text/x-python",
   "name": "python",
   "nbconvert_exporter": "python",
   "pygments_lexer": "ipython3",
   "version": "3.7.6"
  }
 },
 "nbformat": 4,
 "nbformat_minor": 4
}
