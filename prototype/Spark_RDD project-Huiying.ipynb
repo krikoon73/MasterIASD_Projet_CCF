{
 "cells": [
  {
   "cell_type": "markdown",
   "metadata": {},
   "source": [
    "#### Project CCF pySpark RDD"
   ]
  },
  {
   "cell_type": "code",
   "execution_count": 2,
   "metadata": {},
   "outputs": [
    {
     "data": {
      "text/html": [
       "<style scoped>\n",
       "  .ansiout {\n",
       "    display: block;\n",
       "    unicode-bidi: embed;\n",
       "    white-space: pre-wrap;\n",
       "    word-wrap: break-word;\n",
       "    word-break: break-all;\n",
       "    font-family: \"Source Code Pro\", \"Menlo\", monospace;;\n",
       "    font-size: 13px;\n",
       "    color: #555;\n",
       "    margin-left: 4px;\n",
       "    line-height: 19px;\n",
       "  }\n",
       "</style>\n",
       "<div class=\"ansiout\">Out[1]: 41306</div>"
      ]
     },
     "metadata": {},
     "output_type": "display_data"
    }
   ],
   "source": [
    "from itertools import islice\n",
    "g=sc.textFile(\"FileStore/tables/webGoogleS.txt\")\n",
    "#remove header 4 lines\n",
    "data= g.mapPartitionsWithIndex(lambda idx, it: islice(it, 4, None) if idx == 0 else it)\n",
    "data.count()"
   ]
  },
  {
   "cell_type": "code",
   "execution_count": 3,
   "metadata": {},
   "outputs": [
    {
     "data": {
      "text/html": [
       "<style scoped>\n",
       "  .ansiout {\n",
       "    display: block;\n",
       "    unicode-bidi: embed;\n",
       "    white-space: pre-wrap;\n",
       "    word-wrap: break-word;\n",
       "    word-break: break-all;\n",
       "    font-family: \"Source Code Pro\", \"Menlo\", monospace;;\n",
       "    font-size: 13px;\n",
       "    color: #555;\n",
       "    margin-left: 4px;\n",
       "    line-height: 19px;\n",
       "  }\n",
       "</style>\n",
       "<div class=\"ansiout\">Out[2]: [(&#39;0&#39;, &#39;11342&#39;),\n",
       " (&#39;0&#39;, &#39;824020&#39;),\n",
       " (&#39;0&#39;, &#39;867923&#39;),\n",
       " (&#39;0&#39;, &#39;891835&#39;),\n",
       " (&#39;11342&#39;, &#39;0&#39;)]</div>"
      ]
     },
     "metadata": {},
     "output_type": "display_data"
    }
   ],
   "source": [
    "pair = data.map(lambda x: x.split(\"\\t\")).map(lambda x: (x[0], x[1]))\n",
    "pair.take(5)"
   ]
  },
  {
   "cell_type": "code",
   "execution_count": 1,
   "metadata": {},
   "outputs": [],
   "source": [
    "def CCF_dedup(data):\n",
    "  dedup = data.map(lambda x: ((x[0],x[1]), 1))\\\n",
    "              .reduceByKey(lambda x,y: 1)\\\n",
    "              .map(lambda x: (x[0][0], x[0][1]))\n",
    "  return dedup\n",
    "\n",
    "def CCF_Iterate_map(pair):\n",
    "    #map\n",
    "    pair2=pair.map(lambda x: (x[1], x[0]))\n",
    "    map_pair=pair.union(pair2)\n",
    "    return map_pair\n",
    "\n",
    "def f(x): return x\n",
    "    \n",
    "def CCF_Iterate_reduce(data):\n",
    "    #find min value per key\n",
    "    #couple (key, min)\n",
    "    key_min=data.reduceByKey(lambda x,y: min(x,y)).filter(lambda x: x[0]>x[1])\n",
    "    #put together: in one command\n",
    "    valuelist_min=key_min.join(data).map(lambda x: (x[0],x[1][1])).cogroup(key_min).map(lambda x :(x[0], ( list(x[1][0]), list(x[1][1]))))\n",
    "    \n",
    "    #make RDD : (min, (list of value))\n",
    "    min_valuelist=valuelist_min.map(lambda x:(x[1][1][0], x[1][0]))\n",
    "\n",
    "    #use flatmapvalue to transform to RDD (min, value), then filter min != value, map to couple (value, min)\n",
    "\n",
    "    min_value=min_valuelist.flatMapValues(f).filter(lambda x: x[0]!=x[1]).map(lambda x: (x[1],x[0]))\n",
    "    countnewpair=min_value.count()\n",
    "\n",
    "    #union couple (key, min) and (value, min)\n",
    "    unionkeyminvalue=key_min.union(min_value)\n",
    "\n",
    "    return unionkeyminvalue\n",
    "  "
   ]
  },
  {
   "cell_type": "code",
   "execution_count": 2,
   "metadata": {},
   "outputs": [
    {
     "ename": "NameError",
     "evalue": "name 'sc' is not defined",
     "output_type": "error",
     "traceback": [
      "\u001b[0;31m---------------------------------------------------------------------------\u001b[0m",
      "\u001b[0;31mNameError\u001b[0m                                 Traceback (most recent call last)",
      "\u001b[0;32m<ipython-input-2-6abb168680f3>\u001b[0m in \u001b[0;36m<module>\u001b[0;34m\u001b[0m\n\u001b[0;32m----> 1\u001b[0;31m \u001b[0mr\u001b[0m\u001b[0;34m=\u001b[0m\u001b[0msc\u001b[0m\u001b[0;34m.\u001b[0m\u001b[0mparallelize\u001b[0m\u001b[0;34m(\u001b[0m\u001b[0;34m[\u001b[0m\u001b[0;34m(\u001b[0m\u001b[0;34m\"A\"\u001b[0m\u001b[0;34m,\u001b[0m\u001b[0;34m\"B\"\u001b[0m\u001b[0;34m)\u001b[0m\u001b[0;34m,\u001b[0m\u001b[0;34m(\u001b[0m\u001b[0;34m\"B\"\u001b[0m\u001b[0;34m,\u001b[0m\u001b[0;34m\"C\"\u001b[0m\u001b[0;34m)\u001b[0m\u001b[0;34m,\u001b[0m\u001b[0;34m(\u001b[0m\u001b[0;34m\"B\"\u001b[0m\u001b[0;34m,\u001b[0m\u001b[0;34m\"D\"\u001b[0m\u001b[0;34m)\u001b[0m\u001b[0;34m,\u001b[0m\u001b[0;34m(\u001b[0m\u001b[0;34m\"D\"\u001b[0m\u001b[0;34m,\u001b[0m\u001b[0;34m\"E\"\u001b[0m\u001b[0;34m)\u001b[0m\u001b[0;34m,\u001b[0m\u001b[0;34m(\u001b[0m\u001b[0;34m\"F\"\u001b[0m\u001b[0;34m,\u001b[0m\u001b[0;34m\"G\"\u001b[0m\u001b[0;34m)\u001b[0m\u001b[0;34m,\u001b[0m\u001b[0;34m(\u001b[0m\u001b[0;34m\"G\"\u001b[0m\u001b[0;34m,\u001b[0m\u001b[0;34m\"H\"\u001b[0m\u001b[0;34m)\u001b[0m\u001b[0;34m]\u001b[0m\u001b[0;34m)\u001b[0m\u001b[0;34m\u001b[0m\u001b[0;34m\u001b[0m\u001b[0m\n\u001b[0m\u001b[1;32m      2\u001b[0m \u001b[0mr\u001b[0m\u001b[0;34m.\u001b[0m\u001b[0mcollect\u001b[0m\u001b[0;34m(\u001b[0m\u001b[0;34m)\u001b[0m\u001b[0;34m\u001b[0m\u001b[0;34m\u001b[0m\u001b[0m\n",
      "\u001b[0;31mNameError\u001b[0m: name 'sc' is not defined"
     ]
    }
   ],
   "source": [
    "r=sc.parallelize([(\"A\",\"B\"),(\"B\",\"C\"),(\"B\",\"D\"),(\"D\",\"E\"),(\"F\",\"G\"),(\"G\",\"H\")])\n",
    "r.collect()"
   ]
  },
  {
   "cell_type": "code",
   "execution_count": 6,
   "metadata": {},
   "outputs": [
    {
     "data": {
      "text/html": [
       "<style scoped>\n",
       "  .ansiout {\n",
       "    display: block;\n",
       "    unicode-bidi: embed;\n",
       "    white-space: pre-wrap;\n",
       "    word-wrap: break-word;\n",
       "    word-break: break-all;\n",
       "    font-family: \"Source Code Pro\", \"Menlo\", monospace;;\n",
       "    font-size: 13px;\n",
       "    color: #555;\n",
       "    margin-left: 4px;\n",
       "    line-height: 19px;\n",
       "  }\n",
       "</style>\n",
       "<div class=\"ansiout\">Out[9]: [(&#39;A&#39;, &#39;B&#39;),\n",
       " (&#39;B&#39;, &#39;C&#39;),\n",
       " (&#39;B&#39;, &#39;D&#39;),\n",
       " (&#39;B&#39;, &#39;A&#39;),\n",
       " (&#39;C&#39;, &#39;B&#39;),\n",
       " (&#39;D&#39;, &#39;E&#39;),\n",
       " (&#39;D&#39;, &#39;B&#39;),\n",
       " (&#39;E&#39;, &#39;D&#39;),\n",
       " (&#39;F&#39;, &#39;G&#39;),\n",
       " (&#39;G&#39;, &#39;H&#39;),\n",
       " (&#39;G&#39;, &#39;F&#39;),\n",
       " (&#39;H&#39;, &#39;G&#39;)]</div>"
      ]
     },
     "metadata": {},
     "output_type": "display_data"
    }
   ],
   "source": [
    "map1= CCF_Iterate_map(r)\n",
    "map1.collect()"
   ]
  },
  {
   "cell_type": "code",
   "execution_count": 7,
   "metadata": {},
   "outputs": [
    {
     "data": {
      "text/html": [
       "<style scoped>\n",
       "  .ansiout {\n",
       "    display: block;\n",
       "    unicode-bidi: embed;\n",
       "    white-space: pre-wrap;\n",
       "    word-wrap: break-word;\n",
       "    word-break: break-all;\n",
       "    font-family: \"Source Code Pro\", \"Menlo\", monospace;;\n",
       "    font-size: 13px;\n",
       "    color: #555;\n",
       "    margin-left: 4px;\n",
       "    line-height: 19px;\n",
       "  }\n",
       "</style>\n",
       "<div class=\"ansiout\">Out[8]: [(&#39;B&#39;, &#39;A&#39;),\n",
       " (&#39;C&#39;, &#39;B&#39;),\n",
       " (&#39;C&#39;, &#39;A&#39;),\n",
       " (&#39;D&#39;, &#39;B&#39;),\n",
       " (&#39;D&#39;, &#39;A&#39;),\n",
       " (&#39;E&#39;, &#39;D&#39;),\n",
       " (&#39;E&#39;, &#39;B&#39;),\n",
       " (&#39;G&#39;, &#39;F&#39;),\n",
       " (&#39;H&#39;, &#39;G&#39;),\n",
       " (&#39;H&#39;, &#39;F&#39;)]</div>"
      ]
     },
     "metadata": {},
     "output_type": "display_data"
    }
   ],
   "source": [
    "reduce1=CCF_Iterate_reduce(map1)\n",
    "reduce1.collect()"
   ]
  },
  {
   "cell_type": "code",
   "execution_count": 8,
   "metadata": {},
   "outputs": [
    {
     "data": {
      "text/html": [
       "<style scoped>\n",
       "  .ansiout {\n",
       "    display: block;\n",
       "    unicode-bidi: embed;\n",
       "    white-space: pre-wrap;\n",
       "    word-wrap: break-word;\n",
       "    word-break: break-all;\n",
       "    font-family: \"Source Code Pro\", \"Menlo\", monospace;;\n",
       "    font-size: 13px;\n",
       "    color: #555;\n",
       "    margin-left: 4px;\n",
       "    line-height: 19px;\n",
       "  }\n",
       "</style>\n",
       "<div class=\"ansiout\">Out[7]: [(&#39;B&#39;, &#39;A&#39;), (&#39;D&#39;, &#39;B&#39;), (&#39;G&#39;, &#39;F&#39;), (&#39;E&#39;, &#39;D&#39;), (&#39;H&#39;, &#39;G&#39;), (&#39;C&#39;, &#39;B&#39;)]</div>"
      ]
     },
     "metadata": {},
     "output_type": "display_data"
    }
   ],
   "source": [
    "key_min=map1.reduceByKey(lambda x,y: min(x,y)).filter(lambda x: x[0]>x[1])\n",
    "key_min.collect()\n",
    "\n",
    "\n"
   ]
  },
  {
   "cell_type": "code",
   "execution_count": 9,
   "metadata": {},
   "outputs": [
    {
     "data": {
      "text/html": [
       "<style scoped>\n",
       "  .ansiout {\n",
       "    display: block;\n",
       "    unicode-bidi: embed;\n",
       "    white-space: pre-wrap;\n",
       "    word-wrap: break-word;\n",
       "    word-break: break-all;\n",
       "    font-family: \"Source Code Pro\", \"Menlo\", monospace;;\n",
       "    font-size: 13px;\n",
       "    color: #555;\n",
       "    margin-left: 4px;\n",
       "    line-height: 19px;\n",
       "  }\n",
       "</style>\n",
       "<div class=\"ansiout\">Out[37]: [(&#39;G&#39;, ([&#39;H&#39;, &#39;F&#39;], [&#39;F&#39;])),\n",
       " (&#39;E&#39;, ([&#39;D&#39;], [&#39;D&#39;])),\n",
       " (&#39;H&#39;, ([&#39;G&#39;], [&#39;G&#39;])),\n",
       " (&#39;B&#39;, ([&#39;C&#39;, &#39;D&#39;, &#39;A&#39;], [&#39;A&#39;])),\n",
       " (&#39;D&#39;, ([&#39;E&#39;, &#39;B&#39;], [&#39;B&#39;])),\n",
       " (&#39;C&#39;, ([&#39;B&#39;], [&#39;B&#39;]))]</div>"
      ]
     },
     "metadata": {},
     "output_type": "display_data"
    }
   ],
   "source": [
    "valuelist_min=key_min.join(map1).map(lambda x: (x[0],x[1][1])).cogroup(key_min).map(lambda x :(x[0], ( list(x[1][0]), list(x[1][1]))))\n",
    "valuelist_min.collect()"
   ]
  },
  {
   "cell_type": "code",
   "execution_count": 10,
   "metadata": {},
   "outputs": [
    {
     "data": {
      "text/html": [
       "<style scoped>\n",
       "  .ansiout {\n",
       "    display: block;\n",
       "    unicode-bidi: embed;\n",
       "    white-space: pre-wrap;\n",
       "    word-wrap: break-word;\n",
       "    word-break: break-all;\n",
       "    font-family: \"Source Code Pro\", \"Menlo\", monospace;;\n",
       "    font-size: 13px;\n",
       "    color: #555;\n",
       "    margin-left: 4px;\n",
       "    line-height: 19px;\n",
       "  }\n",
       "</style>\n",
       "<div class=\"ansiout\">Out[38]: [(&#39;H&#39;, &#39;F&#39;), (&#39;C&#39;, &#39;A&#39;), (&#39;D&#39;, &#39;A&#39;), (&#39;E&#39;, &#39;B&#39;)]</div>"
      ]
     },
     "metadata": {},
     "output_type": "display_data"
    }
   ],
   "source": [
    "min_valuelist=valuelist_min.map(lambda x:(x[1][1][0], x[1][0]))\n",
    "#min_valuelist.take(10)\n",
    "#use flatmapvalue to transform to RDD (min, value), then filter min != value, map to couple (value, min)\n",
    "def f(x): return x\n",
    "min_value=min_valuelist.flatMapValues(f).filter(lambda x: x[0]!=x[1]).map(lambda x: (x[1],x[0]))\n",
    "min_value.collect()"
   ]
  },
  {
   "cell_type": "code",
   "execution_count": 11,
   "metadata": {},
   "outputs": [
    {
     "data": {
      "text/html": [
       "<style scoped>\n",
       "  .ansiout {\n",
       "    display: block;\n",
       "    unicode-bidi: embed;\n",
       "    white-space: pre-wrap;\n",
       "    word-wrap: break-word;\n",
       "    word-break: break-all;\n",
       "    font-family: \"Source Code Pro\", \"Menlo\", monospace;;\n",
       "    font-size: 13px;\n",
       "    color: #555;\n",
       "    margin-left: 4px;\n",
       "    line-height: 19px;\n",
       "  }\n",
       "</style>\n",
       "<div class=\"ansiout\">Out[39]: [(&#39;B&#39;, &#39;A&#39;),\n",
       " (&#39;D&#39;, &#39;B&#39;),\n",
       " (&#39;G&#39;, &#39;F&#39;),\n",
       " (&#39;E&#39;, &#39;D&#39;),\n",
       " (&#39;H&#39;, &#39;G&#39;),\n",
       " (&#39;C&#39;, &#39;B&#39;),\n",
       " (&#39;H&#39;, &#39;F&#39;),\n",
       " (&#39;C&#39;, &#39;A&#39;),\n",
       " (&#39;D&#39;, &#39;A&#39;),\n",
       " (&#39;E&#39;, &#39;B&#39;)]</div>"
      ]
     },
     "metadata": {},
     "output_type": "display_data"
    }
   ],
   "source": [
    "unionkeyminvalue=key_min.union(min_value)\n",
    "unionkeyminvalue.collect()"
   ]
  }
 ],
 "metadata": {
  "kernelspec": {
   "display_name": "Python 3",
   "language": "python",
   "name": "python3"
  },
  "language_info": {
   "codemirror_mode": {
    "name": "ipython",
    "version": 3
   },
   "file_extension": ".py",
   "mimetype": "text/x-python",
   "name": "python",
   "nbconvert_exporter": "python",
   "pygments_lexer": "ipython3",
   "version": "3.7.6"
  },
  "name": "Spark_RDD project",
  "notebookId": 3156448150564147
 },
 "nbformat": 4,
 "nbformat_minor": 1
}
