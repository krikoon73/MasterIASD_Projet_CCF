{
 "cells": [
  {
   "cell_type": "markdown",
   "metadata": {},
   "source": [
    "#### Project CCF pySpark RDD"
   ]
  },
  {
   "cell_type": "code",
   "execution_count": 1,
   "metadata": {},
   "outputs": [],
   "source": [
    "import findspark\n",
    "findspark.init()\n",
    "from pyspark.sql import SparkSession \n",
    "from pyspark import SparkConf,SparkContext\n",
    "import os\n",
    "\n",
    "conf = SparkConf()\n",
    "conf.setMaster('local')\n",
    "conf.setAppName('pyspark-shell')\n",
    "conf.set('spark.driver.host', '127.0.0.1')\n",
    "conf.set(\"spark.ui.proxyBase\", \"\")\n",
    "conf.set(\"spark.cores.max\",\"4\")\n",
    "conf.set(\"spark.executor.cores\",\"2\")\n",
    "os.environ['PYSPARK_PYTHON'] = '/Users/ccompain/.pyenv/versions/miniconda3-latest/bin/python' # Needs to be explicitly provided as env. Otherwise workers run Python 2.7\n",
    "os.environ['PYSPARK_DRIVER_PYTHON'] = 'jupyter' \n",
    "sc = SparkContext(conf=conf)"
   ]
  },
  {
   "cell_type": "code",
   "execution_count": 1,
   "metadata": {},
   "outputs": [
    {
     "ename": "NameError",
     "evalue": "name 'sc' is not defined",
     "output_type": "error",
     "traceback": [
      "\u001b[0;31m---------------------------------------------------------------------------\u001b[0m",
      "\u001b[0;31mNameError\u001b[0m                                 Traceback (most recent call last)",
      "\u001b[0;32m<ipython-input-1-3f59aba797fc>\u001b[0m in \u001b[0;36m<module>\u001b[0;34m\u001b[0m\n\u001b[1;32m      1\u001b[0m \u001b[0;32mfrom\u001b[0m \u001b[0mitertools\u001b[0m \u001b[0;32mimport\u001b[0m \u001b[0mislice\u001b[0m\u001b[0;34m\u001b[0m\u001b[0;34m\u001b[0m\u001b[0m\n\u001b[0;32m----> 2\u001b[0;31m \u001b[0mg\u001b[0m\u001b[0;34m=\u001b[0m\u001b[0msc\u001b[0m\u001b[0;34m.\u001b[0m\u001b[0mtextFile\u001b[0m\u001b[0;34m(\u001b[0m\u001b[0;34m\"FileStore/tables/webGoogleS.txt\"\u001b[0m\u001b[0;34m)\u001b[0m\u001b[0;34m\u001b[0m\u001b[0;34m\u001b[0m\u001b[0m\n\u001b[0m\u001b[1;32m      3\u001b[0m \u001b[0;31m#remove header 4 lines\u001b[0m\u001b[0;34m\u001b[0m\u001b[0;34m\u001b[0m\u001b[0;34m\u001b[0m\u001b[0m\n\u001b[1;32m      4\u001b[0m \u001b[0mdata\u001b[0m\u001b[0;34m=\u001b[0m \u001b[0mg\u001b[0m\u001b[0;34m.\u001b[0m\u001b[0mmapPartitionsWithIndex\u001b[0m\u001b[0;34m(\u001b[0m\u001b[0;32mlambda\u001b[0m \u001b[0midx\u001b[0m\u001b[0;34m,\u001b[0m \u001b[0mit\u001b[0m\u001b[0;34m:\u001b[0m \u001b[0mislice\u001b[0m\u001b[0;34m(\u001b[0m\u001b[0mit\u001b[0m\u001b[0;34m,\u001b[0m \u001b[0;36m4\u001b[0m\u001b[0;34m,\u001b[0m \u001b[0;32mNone\u001b[0m\u001b[0;34m)\u001b[0m \u001b[0;32mif\u001b[0m \u001b[0midx\u001b[0m \u001b[0;34m==\u001b[0m \u001b[0;36m0\u001b[0m \u001b[0;32melse\u001b[0m \u001b[0mit\u001b[0m\u001b[0;34m)\u001b[0m\u001b[0;34m\u001b[0m\u001b[0;34m\u001b[0m\u001b[0m\n\u001b[1;32m      5\u001b[0m \u001b[0mdata\u001b[0m\u001b[0;34m.\u001b[0m\u001b[0mcount\u001b[0m\u001b[0;34m(\u001b[0m\u001b[0;34m)\u001b[0m\u001b[0;34m\u001b[0m\u001b[0;34m\u001b[0m\u001b[0m\n",
      "\u001b[0;31mNameError\u001b[0m: name 'sc' is not defined"
     ]
    }
   ],
   "source": [
    "from itertools import islice\n",
    "g=sc.textFile(\"FileStore/tables/webGoogleS.txt\")\n",
    "#remove header 4 lines\n",
    "data= g.mapPartitionsWithIndex(lambda idx, it: islice(it, 4, None) if idx == 0 else it)\n",
    "data.count()"
   ]
  },
  {
   "cell_type": "code",
   "execution_count": 3,
   "metadata": {},
   "outputs": [
    {
     "data": {
      "text/html": [
       "<style scoped>\n",
       "  .ansiout {\n",
       "    display: block;\n",
       "    unicode-bidi: embed;\n",
       "    white-space: pre-wrap;\n",
       "    word-wrap: break-word;\n",
       "    word-break: break-all;\n",
       "    font-family: \"Source Code Pro\", \"Menlo\", monospace;;\n",
       "    font-size: 13px;\n",
       "    color: #555;\n",
       "    margin-left: 4px;\n",
       "    line-height: 19px;\n",
       "  }\n",
       "</style>\n",
       "<div class=\"ansiout\">Out[2]: [(&#39;0&#39;, &#39;11342&#39;),\n",
       " (&#39;0&#39;, &#39;824020&#39;),\n",
       " (&#39;0&#39;, &#39;867923&#39;),\n",
       " (&#39;0&#39;, &#39;891835&#39;),\n",
       " (&#39;11342&#39;, &#39;0&#39;)]</div>"
      ]
     },
     "metadata": {},
     "output_type": "display_data"
    }
   ],
   "source": [
    "pair = data.map(lambda x: x.split(\"\\t\")).map(lambda x: (x[0], x[1]))\n",
    "pair.take(5)"
   ]
  },
  {
   "cell_type": "code",
   "execution_count": 2,
   "metadata": {},
   "outputs": [],
   "source": [
    "def CCF_dedup(data):\n",
    "  dedup = data.map(lambda x: ((x[0],x[1]), 1))\\\n",
    "              .reduceByKey(lambda x,y: 1)\\\n",
    "              .map(lambda x: (x[0][0], x[0][1]))\n",
    "#              .sortBy(lambda x:x[0])\n",
    "  return dedup\n",
    "\n",
    "def CCF_Iterate_map(pair):\n",
    "    #map\n",
    "    pair2=pair.map(lambda x: (x[1], x[0]))\n",
    "    map_pair=pair.union(pair2) \n",
    "    #map_pair=pair.union(pair2).sortByKey(ascending=True)\n",
    "    return map_pair\n",
    "\n",
    "def f(x): return x\n",
    "    \n",
    "def CCF_Iterate_reduce(data):\n",
    "    #find min value per key\n",
    "    #couple (key, min)\n",
    "    key_min=data.reduceByKey(lambda x,y: min(x,y)).filter(lambda x: x[0]>x[1])\n",
    "    #put together: in one command\n",
    "    valuelist_min=key_min.join(data).map(lambda x: (x[0],x[1][1])).cogroup(key_min).map(lambda x :(x[0], ( list(x[1][0]), list(x[1][1]))))\n",
    "    \n",
    "    #make RDD : (min, (list of value))\n",
    "    min_valuelist=valuelist_min.map(lambda x:(x[1][1][0], x[1][0]))\n",
    "\n",
    "    #use flatmapvalue to transform to RDD (min, value), then filter min != value, map to couple (value, min)\n",
    "\n",
    "    min_value=min_valuelist.flatMapValues(f).filter(lambda x: x[0]!=x[1]).map(lambda x: (x[1],x[0]))\n",
    "    countnewpair=min_value.count()\n",
    "\n",
    "    #union couple (key, min) and (value, min)\n",
    "    #unionkeyminvalue=key_min.union(min_value).sortBy(lambda x:x[1])\n",
    "    unionkeyminvalue=key_min.union(min_value)\n",
    "\n",
    "    return unionkeyminvalue\n",
    "  "
   ]
  },
  {
   "cell_type": "code",
   "execution_count": 3,
   "metadata": {},
   "outputs": [
    {
     "data": {
      "text/plain": [
       "[('A', 'B'), ('B', 'C'), ('B', 'D'), ('D', 'E'), ('F', 'G'), ('G', 'H')]"
      ]
     },
     "execution_count": 3,
     "metadata": {},
     "output_type": "execute_result"
    }
   ],
   "source": [
    "r=sc.parallelize([(\"A\",\"B\"),(\"B\",\"C\"),(\"B\",\"D\"),(\"D\",\"E\"),(\"F\",\"G\"),(\"G\",\"H\")])\n",
    "r.collect()"
   ]
  },
  {
   "cell_type": "code",
   "execution_count": 4,
   "metadata": {},
   "outputs": [
    {
     "data": {
      "text/plain": [
       "[('A', 'B'),\n",
       " ('B', 'C'),\n",
       " ('B', 'D'),\n",
       " ('D', 'E'),\n",
       " ('F', 'G'),\n",
       " ('G', 'H'),\n",
       " ('B', 'A'),\n",
       " ('C', 'B'),\n",
       " ('D', 'B'),\n",
       " ('E', 'D'),\n",
       " ('G', 'F'),\n",
       " ('H', 'G')]"
      ]
     },
     "execution_count": 4,
     "metadata": {},
     "output_type": "execute_result"
    }
   ],
   "source": [
    "map1= CCF_Iterate_map(r)\n",
    "map1.collect()"
   ]
  },
  {
   "cell_type": "code",
   "execution_count": 70,
   "metadata": {},
   "outputs": [
    {
     "data": {
      "text/plain": [
       "12"
      ]
     },
     "execution_count": 70,
     "metadata": {},
     "output_type": "execute_result"
    }
   ],
   "source": [
    "map1.count()"
   ]
  },
  {
   "cell_type": "code",
   "execution_count": 58,
   "metadata": {},
   "outputs": [
    {
     "data": {
      "text/plain": [
       "[('C', 'B'),\n",
       " ('B', 'A'),\n",
       " ('D', 'B'),\n",
       " ('G', 'F'),\n",
       " ('E', 'D'),\n",
       " ('H', 'G'),\n",
       " ('H', 'F'),\n",
       " ('C', 'A'),\n",
       " ('D', 'A'),\n",
       " ('E', 'B')]"
      ]
     },
     "execution_count": 58,
     "metadata": {},
     "output_type": "execute_result"
    }
   ],
   "source": [
    "reduce1_tmp=CCF_Iterate_reduce(map1)\n",
    "reduce1_tmp.collect()"
   ]
  },
  {
   "cell_type": "code",
   "execution_count": 59,
   "metadata": {},
   "outputs": [
    {
     "data": {
      "text/plain": [
       "[('B', 'A'),\n",
       " ('H', 'F'),\n",
       " ('G', 'F'),\n",
       " ('D', 'A'),\n",
       " ('C', 'A'),\n",
       " ('E', 'D'),\n",
       " ('D', 'B'),\n",
       " ('H', 'G'),\n",
       " ('E', 'B'),\n",
       " ('C', 'B')]"
      ]
     },
     "execution_count": 59,
     "metadata": {},
     "output_type": "execute_result"
    }
   ],
   "source": [
    "reduce1=CCF_dedup(reduce1_tmp)\n",
    "reduce1.collect()"
   ]
  },
  {
   "cell_type": "code",
   "execution_count": 60,
   "metadata": {},
   "outputs": [
    {
     "data": {
      "text/plain": [
       "[('B', 'A'),\n",
       " ('H', 'F'),\n",
       " ('G', 'F'),\n",
       " ('D', 'A'),\n",
       " ('C', 'A'),\n",
       " ('E', 'D'),\n",
       " ('D', 'B'),\n",
       " ('H', 'G'),\n",
       " ('E', 'B'),\n",
       " ('C', 'B'),\n",
       " ('A', 'B'),\n",
       " ('F', 'H'),\n",
       " ('F', 'G'),\n",
       " ('A', 'D'),\n",
       " ('A', 'C'),\n",
       " ('D', 'E'),\n",
       " ('B', 'D'),\n",
       " ('G', 'H'),\n",
       " ('B', 'E'),\n",
       " ('B', 'C')]"
      ]
     },
     "execution_count": 60,
     "metadata": {},
     "output_type": "execute_result"
    }
   ],
   "source": [
    "map2 = CCF_Iterate_map(reduce1)\n",
    "map2.collect()"
   ]
  },
  {
   "cell_type": "code",
   "execution_count": 61,
   "metadata": {},
   "outputs": [
    {
     "data": {
      "text/plain": [
       "[('B', 'A'),\n",
       " ('G', 'F'),\n",
       " ('D', 'A'),\n",
       " ('E', 'B'),\n",
       " ('H', 'F'),\n",
       " ('C', 'A'),\n",
       " ('H', 'F'),\n",
       " ('D', 'B'),\n",
       " ('G', 'F'),\n",
       " ('D', 'A'),\n",
       " ('E', 'A'),\n",
       " ('C', 'A'),\n",
       " ('B', 'A'),\n",
       " ('E', 'A'),\n",
       " ('B', 'A')]"
      ]
     },
     "execution_count": 61,
     "metadata": {},
     "output_type": "execute_result"
    }
   ],
   "source": [
    "reduce2_tmp = CCF_Iterate_reduce(map2)\n",
    "reduce2_tmp.collect()"
   ]
  },
  {
   "cell_type": "code",
   "execution_count": 62,
   "metadata": {},
   "outputs": [
    {
     "data": {
      "text/plain": [
       "[('D', 'A'),\n",
       " ('E', 'A'),\n",
       " ('G', 'F'),\n",
       " ('H', 'F'),\n",
       " ('B', 'A'),\n",
       " ('C', 'A'),\n",
       " ('E', 'B'),\n",
       " ('D', 'B')]"
      ]
     },
     "execution_count": 62,
     "metadata": {},
     "output_type": "execute_result"
    }
   ],
   "source": [
    "reduce2 = CCF_dedup(reduce2_tmp)\n",
    "reduce2.collect()"
   ]
  },
  {
   "cell_type": "code",
   "execution_count": 63,
   "metadata": {},
   "outputs": [
    {
     "data": {
      "text/plain": [
       "[('D', 'A'),\n",
       " ('E', 'A'),\n",
       " ('G', 'F'),\n",
       " ('H', 'F'),\n",
       " ('B', 'A'),\n",
       " ('C', 'A'),\n",
       " ('E', 'B'),\n",
       " ('D', 'B'),\n",
       " ('A', 'D'),\n",
       " ('A', 'E'),\n",
       " ('F', 'G'),\n",
       " ('F', 'H'),\n",
       " ('A', 'B'),\n",
       " ('A', 'C'),\n",
       " ('B', 'E'),\n",
       " ('B', 'D')]"
      ]
     },
     "execution_count": 63,
     "metadata": {},
     "output_type": "execute_result"
    }
   ],
   "source": [
    "map3 = CCF_Iterate_map(reduce2)\n",
    "map3.collect()"
   ]
  },
  {
   "cell_type": "code",
   "execution_count": 64,
   "metadata": {},
   "outputs": [
    {
     "data": {
      "text/plain": [
       "[('D', 'A'),\n",
       " ('E', 'A'),\n",
       " ('H', 'F'),\n",
       " ('B', 'A'),\n",
       " ('G', 'F'),\n",
       " ('C', 'A'),\n",
       " ('B', 'A'),\n",
       " ('E', 'A'),\n",
       " ('D', 'A'),\n",
       " ('B', 'A')]"
      ]
     },
     "execution_count": 64,
     "metadata": {},
     "output_type": "execute_result"
    }
   ],
   "source": [
    "reduce3_tmp = CCF_Iterate_reduce(map3)\n",
    "reduce3_tmp.collect()"
   ]
  },
  {
   "cell_type": "code",
   "execution_count": 65,
   "metadata": {},
   "outputs": [
    {
     "data": {
      "text/plain": [
       "[('H', 'F'), ('G', 'F'), ('C', 'A'), ('E', 'A'), ('D', 'A'), ('B', 'A')]"
      ]
     },
     "execution_count": 65,
     "metadata": {},
     "output_type": "execute_result"
    }
   ],
   "source": [
    "reduce3 = CCF_dedup(reduce3_tmp)\n",
    "reduce3.collect()"
   ]
  },
  {
   "cell_type": "code",
   "execution_count": 66,
   "metadata": {},
   "outputs": [
    {
     "data": {
      "text/plain": [
       "[('H', 'F'),\n",
       " ('G', 'F'),\n",
       " ('C', 'A'),\n",
       " ('E', 'A'),\n",
       " ('D', 'A'),\n",
       " ('B', 'A'),\n",
       " ('F', 'H'),\n",
       " ('F', 'G'),\n",
       " ('A', 'C'),\n",
       " ('A', 'E'),\n",
       " ('A', 'D'),\n",
       " ('A', 'B')]"
      ]
     },
     "execution_count": 66,
     "metadata": {},
     "output_type": "execute_result"
    }
   ],
   "source": [
    "map4 = CCF_Iterate_map(reduce3)\n",
    "map4.collect()"
   ]
  },
  {
   "cell_type": "code",
   "execution_count": 67,
   "metadata": {},
   "outputs": [
    {
     "data": {
      "text/plain": [
       "[('D', 'A'), ('E', 'A'), ('H', 'F'), ('B', 'A'), ('G', 'F'), ('C', 'A')]"
      ]
     },
     "execution_count": 67,
     "metadata": {},
     "output_type": "execute_result"
    }
   ],
   "source": [
    "reduce4_tmp=CCF_Iterate_reduce(map4)\n",
    "reduce4_tmp.collect()"
   ]
  },
  {
   "cell_type": "code",
   "execution_count": 68,
   "metadata": {},
   "outputs": [
    {
     "data": {
      "text/plain": [
       "[('G', 'F'), ('E', 'A'), ('H', 'F'), ('D', 'A'), ('B', 'A'), ('C', 'A')]"
      ]
     },
     "execution_count": 68,
     "metadata": {},
     "output_type": "execute_result"
    }
   ],
   "source": [
    "reduce4 = CCF_dedup(reduce4_tmp)\n",
    "reduce4.collect()"
   ]
  },
  {
   "cell_type": "code",
   "execution_count": 5,
   "metadata": {},
   "outputs": [
    {
     "data": {
      "text/plain": [
       "[('C', 'B'), ('B', 'A'), ('D', 'B'), ('G', 'F'), ('E', 'D'), ('H', 'G')]"
      ]
     },
     "execution_count": 5,
     "metadata": {},
     "output_type": "execute_result"
    }
   ],
   "source": [
    "key_min=map1.reduceByKey(lambda x,y: min(x,y)).filter(lambda x: x[0]>x[1])\n",
    "key_min.collect()\n",
    "\n",
    "\n"
   ]
  },
  {
   "cell_type": "code",
   "execution_count": 8,
   "metadata": {},
   "outputs": [
    {
     "data": {
      "text/plain": [
       "[('C', (['B'], ['B'])),\n",
       " ('H', (['G'], ['G'])),\n",
       " ('G', (['H', 'F'], ['F'])),\n",
       " ('B', (['C', 'D', 'A'], ['A'])),\n",
       " ('D', (['E', 'B'], ['B'])),\n",
       " ('E', (['D'], ['D']))]"
      ]
     },
     "execution_count": 8,
     "metadata": {},
     "output_type": "execute_result"
    }
   ],
   "source": [
    "valuelist_min=key_min.join(map1).map(lambda x: (x[0],x[1][1])).cogroup(key_min).map(lambda x :(x[0], ( list(x[1][0]), list(x[1][1]))))\n",
    "valuelist_min.collect()"
   ]
  },
  {
   "cell_type": "code",
   "execution_count": 9,
   "metadata": {},
   "outputs": [
    {
     "data": {
      "text/plain": [
       "[('H', 'F'), ('C', 'A'), ('D', 'A'), ('E', 'B')]"
      ]
     },
     "execution_count": 9,
     "metadata": {},
     "output_type": "execute_result"
    }
   ],
   "source": [
    "min_valuelist=valuelist_min.map(lambda x:(x[1][1][0], x[1][0]))\n",
    "#min_valuelist.take(10)\n",
    "#use flatmapvalue to transform to RDD (min, value), then filter min != value, map to couple (value, min)\n",
    "def f(x): return x\n",
    "min_value=min_valuelist.flatMapValues(f).filter(lambda x: x[0]!=x[1]).map(lambda x: (x[1],x[0]))\n",
    "min_value.collect()"
   ]
  },
  {
   "cell_type": "code",
   "execution_count": 10,
   "metadata": {},
   "outputs": [
    {
     "data": {
      "text/plain": [
       "[('C', 'B'),\n",
       " ('B', 'A'),\n",
       " ('D', 'B'),\n",
       " ('G', 'F'),\n",
       " ('E', 'D'),\n",
       " ('H', 'G'),\n",
       " ('H', 'F'),\n",
       " ('C', 'A'),\n",
       " ('D', 'A'),\n",
       " ('E', 'B')]"
      ]
     },
     "execution_count": 10,
     "metadata": {},
     "output_type": "execute_result"
    }
   ],
   "source": [
    "unionkeyminvalue=key_min.union(min_value)\n",
    "unionkeyminvalue.collect()"
   ]
  },
  {
   "cell_type": "code",
   "execution_count": null,
   "metadata": {},
   "outputs": [],
   "source": []
  }
 ],
 "metadata": {
  "kernelspec": {
   "display_name": "Python 3",
   "language": "python",
   "name": "python3"
  },
  "language_info": {
   "codemirror_mode": {
    "name": "ipython",
    "version": 3
   },
   "file_extension": ".py",
   "mimetype": "text/x-python",
   "name": "python",
   "nbconvert_exporter": "python",
   "pygments_lexer": "ipython3",
   "version": "3.7.6"
  },
  "name": "Spark_RDD project",
  "notebookId": 3156448150564147
 },
 "nbformat": 4,
 "nbformat_minor": 1
}
