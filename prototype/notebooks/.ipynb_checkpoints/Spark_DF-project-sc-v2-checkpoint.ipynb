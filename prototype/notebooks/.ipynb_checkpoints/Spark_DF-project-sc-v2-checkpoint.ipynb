{
 "cells": [
  {
   "cell_type": "code",
   "execution_count": 1,
   "metadata": {},
   "outputs": [],
   "source": [
    "import findspark\n",
    "findspark.init()\n",
    "from pyspark.sql import SparkSession \n",
    "from pyspark import SparkConf,SparkContext\n",
    "from pyspark.sql.types import IntegerType, StringType\n",
    "#from pyspark.sql.functions import udf\n",
    "import pyspark.sql.functions as funct\n",
    "import os\n",
    "\n",
    "#conf = SparkConf()\n",
    "#conf.setMaster('local')\n",
    "#conf.setAppName('pyspark-shell')\n",
    "#conf.set('spark.driver.host', '127.0.0.1')\n",
    "#os.environ['PYSPARK_PYTHON'] = '/Users/ccompain/.pyenv/versions/miniconda3-latest/bin/python' # Needs to be explicitly provided as env. Otherwise workers run Python 2.7\n",
    "#os.environ['PYSPARK_DRIVER_PYTHON'] = 'jupyter'\n",
    "\n",
    "#sc = SparkContext(conf=conf)\n",
    "spark = SparkSession.builder.getOrCreate()\n",
    "\n",
    "#sc.setLogLevel(\"WARN\") "
   ]
  },
  {
   "cell_type": "code",
   "execution_count": 2,
   "metadata": {},
   "outputs": [
    {
     "name": "stdout",
     "output_type": "stream",
     "text": [
      "+---+---+\n",
      "| N1| N2|\n",
      "+---+---+\n",
      "|  A|  B|\n",
      "|  B|  C|\n",
      "|  B|  D|\n",
      "|  D|  E|\n",
      "|  F|  G|\n",
      "|  G|  H|\n",
      "+---+---+\n",
      "\n"
     ]
    }
   ],
   "source": [
    "r=spark.createDataFrame([(\"A\",\"B\"),(\"B\",\"C\"),(\"B\",\"D\"),(\"D\",\"E\"),(\"F\",\"G\"),(\"G\",\"H\")]).toDF(\"N1\",\"N2\") \n",
    "#r.printSchema()\n",
    "r.show()\n",
    "#r.collect()"
   ]
  },
  {
   "cell_type": "code",
   "execution_count": 3,
   "metadata": {},
   "outputs": [],
   "source": [
    "log4jLogger = spark._jvm.org.apache.log4j\n",
    "LOGGER = log4jLogger.LogManager.getLogger(__name__)\n"
   ]
  },
  {
   "cell_type": "code",
   "execution_count": 4,
   "metadata": {},
   "outputs": [],
   "source": [
    "new_pair_flag = True\n",
    "iteration = 0\n",
    "dedupJob = r"
   ]
  },
  {
   "cell_type": "code",
   "execution_count": 5,
   "metadata": {
    "scrolled": false,
    "tags": []
   },
   "outputs": [
    {
     "name": "stdout",
     "output_type": "stream",
     "text": [
      "Iteration :1 ---  newPair : 4\n",
      "Iteration :2 ---  newPair : 9\n",
      "Iteration :3 ---  newPair : 4\n",
      "Iteration :4 ---  newPair : 0\n"
     ]
    }
   ],
   "source": [
    "while new_pair_flag:\n",
    "    iteration += 1\n",
    "    newPair = False\n",
    "    newPairs = 0\n",
    "\n",
    "    # CCF-iterate (MAP)\n",
    "    mapJob = dedupJob.union(dedupJob.select('N2', 'N1')).persist()\n",
    "  #  print(\"Map \"+str(iteration))\n",
    "  #  print(mapJob.show())\n",
    "\n",
    "    # CCF-iterate (REDUCE)\n",
    "    minDF=mapJob.groupBy('N1').agg(funct.min(mapJob['N2']).alias('minN')).where('min(N2)<N1').persist()\n",
    "  #  print(\"minDF \"+str(iteration))\n",
    "  #  print(minDF.show())\n",
    "    supplDF=mapJob.join(minDF, \"N1\").where(\"minN<>N2\").select('N2','minN').withColumnRenamed('N2','N1').withColumnRenamed('minN','N2').persist()\n",
    "  #  print(\"supplDF \"+str(iteration))\n",
    "  #  print(supplDF.show())\n",
    "    newPairs=supplDF.count()\n",
    "    reduceJob = supplDF.union(minDF).persist()\n",
    "  #  print(\"reduceJob \"+str(iteration))\n",
    "  #  print(reduceJob.show())\n",
    "    \n",
    "    # CCF-dedup \n",
    "    dedupJob = reduceJob.distinct().persist() #.orderBy(\"N1\", \"N2\")\n",
    "  #  print(\"dedupJob \"+str(iteration))\n",
    "  #  print(dedupJob.show())\n",
    "\n",
    "    # Force the RDD evalusation\n",
    "#    tmp = dedupJob.count()\n",
    "\n",
    "    # Prepare next iteration\n",
    "    #mapJob = dedupJob\n",
    "    new_pair_flag = bool(newPairs)\n",
    "\n",
    "    #LOGGER.warn(\"Iteration :\"+str(iteration)+\" --- \"+\" newPair : \"+str(new_pair_flag))\n",
    "    print(\"Iteration :\"+str(iteration)+\" --- \"+\" newPairs : \"+str(newPairs))\n"
   ]
  },
  {
   "cell_type": "code",
   "execution_count": 8,
   "metadata": {},
   "outputs": [
    {
     "name": "stdout",
     "output_type": "stream",
     "text": [
      "+---+-----+\n",
      "| N2|count|\n",
      "+---+-----+\n",
      "|  A|    4|\n",
      "|  F|    2|\n",
      "+---+-----+\n",
      "\n"
     ]
    },
    {
     "ename": "TypeError",
     "evalue": "'NoneType' object cannot be interpreted as an integer",
     "output_type": "error",
     "traceback": [
      "\u001b[1;31m---------------------------------------------------------------------------\u001b[0m",
      "\u001b[1;31mTypeError\u001b[0m                                 Traceback (most recent call last)",
      "\u001b[1;32m<ipython-input-8-027f211fb425>\u001b[0m in \u001b[0;36m<module>\u001b[1;34m\u001b[0m\n\u001b[0;32m      3\u001b[0m \u001b[1;33m\u001b[0m\u001b[0m\n\u001b[0;32m      4\u001b[0m \u001b[0mresult\u001b[0m\u001b[1;33m=\u001b[0m \u001b[0mdedupJob\u001b[0m\u001b[1;33m.\u001b[0m\u001b[0mgroupBy\u001b[0m\u001b[1;33m(\u001b[0m\u001b[1;34m'N2'\u001b[0m\u001b[1;33m)\u001b[0m\u001b[1;33m.\u001b[0m\u001b[0mcount\u001b[0m\u001b[1;33m(\u001b[0m\u001b[1;33m)\u001b[0m\u001b[1;33m.\u001b[0m\u001b[0morderBy\u001b[0m\u001b[1;33m(\u001b[0m\u001b[1;34m'count'\u001b[0m\u001b[1;33m,\u001b[0m\u001b[0mascending\u001b[0m\u001b[1;33m=\u001b[0m\u001b[1;32mFalse\u001b[0m\u001b[1;33m)\u001b[0m \u001b[1;31m#.withColumn('nbComponents',count1('count')).select('N2','NbComponents').orderBy('NbComponents',ascending=False)\u001b[0m\u001b[1;33m\u001b[0m\u001b[1;33m\u001b[0m\u001b[0m\n\u001b[1;32m----> 5\u001b[1;33m \u001b[0mprint\u001b[0m\u001b[1;33m(\u001b[0m\u001b[0mrange\u001b[0m\u001b[1;33m(\u001b[0m\u001b[0mresult\u001b[0m\u001b[1;33m.\u001b[0m\u001b[0mshow\u001b[0m\u001b[1;33m(\u001b[0m\u001b[1;33m)\u001b[0m\u001b[1;33m)\u001b[0m\u001b[1;33m)\u001b[0m\u001b[1;33m\u001b[0m\u001b[1;33m\u001b[0m\u001b[0m\n\u001b[0m",
      "\u001b[1;31mTypeError\u001b[0m: 'NoneType' object cannot be interpreted as an integer"
     ]
    }
   ],
   "source": [
    "#count1 = funct.udf(lambda s: s+1, IntegerType())\n",
    "#_ = spark.udf.register(\"count1\", count1)\n",
    "\n",
    "result= dedupJob.groupBy('N2').count().orderBy('count',ascending=False) #.withColumn('nbComponents',count1('count')).select('N2','NbComponents').orderBy('NbComponents',ascending=False)\n",
    "print(range(result.show()))\n"
   ]
  }
 ],
 "metadata": {
  "kernelspec": {
   "display_name": "Python 3",
   "language": "python",
   "name": "python3"
  },
  "language_info": {
   "codemirror_mode": {
    "name": "ipython",
    "version": 3
   },
   "file_extension": ".py",
   "mimetype": "text/x-python",
   "name": "python",
   "nbconvert_exporter": "python",
   "pygments_lexer": "ipython3",
   "version": "3.7.4"
  }
 },
 "nbformat": 4,
 "nbformat_minor": 2
}
