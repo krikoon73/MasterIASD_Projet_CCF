{
 "cells": [
  {
   "cell_type": "code",
   "execution_count": 1,
   "metadata": {},
   "outputs": [],
   "source": [
    "import findspark\n",
    "findspark.init()\n",
    "from pyspark.sql import SparkSession\n",
    "#from pyspark.sql import SQLContext\n",
    "from pyspark import SparkConf,SparkContext\n",
    "from pyspark.sql.types import IntegerType, StringType\n",
    "#from pyspark.sql.functions import udf\n",
    "import pyspark.sql.functions as funct\n",
    "import os\n",
    "\n",
    "path = \"C:/Users/scohe/Documents/GitHub/MasterIASD_Projet_CCF/prototype/input/\"\n",
    "partition_number = 1\n",
    "#conf.set('spark.driver.host', '127.0.0.1')\n",
    "#os.environ['PYSPARK_PYTHON'] = '/Users/ccompain/.pyenv/versions/miniconda3-latest/bin/python' # Needs to be explicitly provided as env. Otherwise workers run Python 2.7\n",
    "#os.environ['PYSPARK_DRIVER_PYTHON'] = 'jupyter'\n",
    "\n",
    "#sc = SparkContext(conf=conf)\n",
    "spark = SparkSession.builder\\\n",
    ".master(\"local\")\\\n",
    ".appName(\"pyspark-shell\")\\\n",
    ".config('spark.driver.host', '127.0.0.1')\\\n",
    ".config(\"spark.logConf\", \"true\").getOrCreate() #.config(\"spark.driver.memory\", \"16g\")\n",
    "#sqlContext = SQLContext(spark)\n",
    "#sqlContext.setConf(\"spark.sql.shuffle.partitions\", \"300\")\n",
    "#sqlContext.setConf(\"spark.default.parallelism\", \"300\")\n",
    "spark.sparkContext.setLogLevel(\"WARN\") "
   ]
  },
  {
   "cell_type": "code",
   "execution_count": 4,
   "metadata": {},
   "outputs": [
    {
     "name": "stdout",
     "output_type": "stream",
     "text": [
      "+---+---+\n",
      "| N1| N2|\n",
      "+---+---+\n",
      "|  1|  3|\n",
      "|  2|  3|\n",
      "|  2|  4|\n",
      "|  2|  5|\n",
      "|  3|  4|\n",
      "|  4|  5|\n",
      "|  4|  6|\n",
      "|  5|  7|\n",
      "|  5|  8|\n",
      "|  7|  8|\n",
      "| 13| 14|\n",
      "| 13| 15|\n",
      "| 13|  9|\n",
      "| 14| 15|\n",
      "| 15| 10|\n",
      "|  9| 10|\n",
      "+---+---+\n",
      "\n"
     ]
    }
   ],
   "source": [
    "r =  spark.read\\\n",
    "            .format(\"csv\").option(\"header\", \"true\")\\\n",
    "            .option(\"inferSchema\", \"true\")\\\n",
    "            .load(path +\"simple_2_graphs.csv\").toDF(\"N1\",\"N2\").coalesce(partition_number)\n",
    "#r=spark.createDataFrame([(\"A\",\"B\"),(\"B\",\"C\"),(\"B\",\"D\"),(\"D\",\"E\"),(\"F\",\"G\"),(\"G\",\"H\")]).toDF(\"N1\",\"N2\") \n",
    "#r.printSchema()\n",
    "r.show()\n",
    "#r.collect()"
   ]
  },
  {
   "cell_type": "code",
   "execution_count": 2,
   "metadata": {},
   "outputs": [],
   "source": [
    "log4jLogger = spark._jvm.org.apache.log4j\n",
    "LOGGER = log4jLogger.LogManager.getLogger(__name__)\n"
   ]
  },
  {
   "cell_type": "code",
   "execution_count": 22,
   "metadata": {},
   "outputs": [],
   "source": [
    "new_pair_flag = True\n",
    "iteration = 0\n",
    "dedupJob = r\n"
   ]
  },
  {
   "cell_type": "code",
   "execution_count": 17,
   "metadata": {},
   "outputs": [
    {
     "name": "stdout",
     "output_type": "stream",
     "text": [
      "1\n"
     ]
    }
   ],
   "source": [
    "mapJob = dedupJob.union(dedupJob.select('N2', 'N1')).coalesce(partition_number).persist()\n",
    "minDF=mapJob.groupBy('N1').agg(funct.min(mapJob['N2']).alias('minN')).where('min(N2)<N1').persist()\n",
    "supplDF=mapJob.join(minDF, \"N1\").where(\"minN<>N2\").select('N2','minN').withColumnRenamed('N2','N1').withColumnRenamed('minN','N2').persist()\n",
    "reduceJob = supplDF.union(minDF).coalesce(partition_number).persist()\n",
    "print(reduceJob.rdd.glom().getNumPartitions())"
   ]
  },
  {
   "cell_type": "code",
   "execution_count": 23,
   "metadata": {
    "scrolled": false,
    "tags": []
   },
   "outputs": [
    {
     "name": "stdout",
     "output_type": "stream",
     "text": [
      "Iteration :1 ---  newPairs : 16\n",
      "Iteration :2 ---  newPairs : 24\n",
      "Iteration :3 ---  newPairs : 10\n",
      "Iteration :4 ---  newPairs : 0\n"
     ]
    }
   ],
   "source": [
    "while new_pair_flag:\n",
    "    iteration += 1\n",
    "    newPair = False\n",
    "    newPairs = 0\n",
    "\n",
    "    # CCF-iterate (MAP)\n",
    "    mapJob = dedupJob.union(dedupJob.select('N2', 'N1')).coalesce(partition_number).persist()\n",
    "  #  print(\"Map \"+str(iteration))\n",
    "  #  print(mapJob.show())\n",
    "\n",
    "    # CCF-iterate (REDUCE)\n",
    "    minDF=mapJob.groupBy('N1').agg(funct.min(mapJob['N2']).alias('minN')).where('min(N2)<N1').persist()\n",
    "  #  print(\"minDF \"+str(iteration))\n",
    "  #  print(minDF.show())\n",
    "    supplDF=mapJob.join(minDF, \"N1\").where(\"minN<>N2\").select('N2','minN').withColumnRenamed('N2','N1').withColumnRenamed('minN','N2').persist()\n",
    "  #  print(\"supplDF \"+str(iteration))\n",
    "  #  print(supplDF.show())\n",
    "    newPairs=supplDF.count()\n",
    "    reduceJob = supplDF.union(minDF).coalesce(partition_number).persist()\n",
    "  #  print(\"reduceJob \"+str(iteration))\n",
    "  #  print(reduceJob.show())\n",
    "    \n",
    "    # CCF-dedup \n",
    "    dedupJob = reduceJob.distinct().persist() #.orderBy(\"N1\", \"N2\")\n",
    "  #  print(\"dedupJob \"+str(iteration))\n",
    "  #  print(dedupJob.show())\n",
    "\n",
    "    # Force the RDD evalusation\n",
    "#    tmp = dedupJob.count()\n",
    "\n",
    "    # Prepare next iteration\n",
    "    #mapJob = dedupJob\n",
    "    new_pair_flag = bool(newPairs)\n",
    "\n",
    "    #LOGGER.warn(\"Iteration :\"+str(iteration)+\" --- \"+\" newPair : \"+str(new_pair_flag))\n",
    "    print(\"Iteration :\"+str(iteration)+\" --- \"+\" newPairs : \"+str(newPairs))\n"
   ]
  },
  {
   "cell_type": "code",
   "execution_count": 50,
   "metadata": {},
   "outputs": [
    {
     "name": "stdout",
     "output_type": "stream",
     "text": [
      "+-----+--------------------+\n",
      "|Group|otherComponentsCount|\n",
      "+-----+--------------------+\n",
      "|    1|                   7|\n",
      "|    9|                   4|\n",
      "+-----+--------------------+\n",
      "\n",
      "None\n"
     ]
    }
   ],
   "source": [
    "#count1 = funct.udf(lambda s: s+1, IntegerType())\n",
    "#_ = spark.udf.register(\"count1\", count1)\n",
    "\n",
    "result= dedupJob.groupBy('N2').count().orderBy('count',ascending=False).withColumnRenamed('N2','Group').withColumnRenamed('count','otherComponentsCount') #.withColumn('nbComponents',count1('count')).select('N2','NbComponents').orderBy('NbComponents',ascending=False)\n",
    "print(result.show())\n"
   ]
  }
 ],
 "metadata": {
  "kernelspec": {
   "display_name": "Python 3",
   "language": "python",
   "name": "python3"
  },
  "language_info": {
   "codemirror_mode": {
    "name": "ipython",
    "version": 3
   },
   "file_extension": ".py",
   "mimetype": "text/x-python",
   "name": "python",
   "nbconvert_exporter": "python",
   "pygments_lexer": "ipython3",
   "version": "3.7.4"
  }
 },
 "nbformat": 4,
 "nbformat_minor": 2
}
