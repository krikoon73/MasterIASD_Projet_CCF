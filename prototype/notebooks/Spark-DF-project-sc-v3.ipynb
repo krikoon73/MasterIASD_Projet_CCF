{
 "cells": [
  {
   "cell_type": "code",
   "execution_count": 1,
   "metadata": {},
   "outputs": [],
   "source": [
    "import findspark\n",
    "findspark.init()\n",
    "from pyspark.sql import SparkSession\n",
    "#from pyspark.sql import SQLContext\n",
    "from pyspark import SparkConf,SparkContext\n",
    "from pyspark.sql.types import IntegerType, StringType\n",
    "#from pyspark.sql.functions import udf\n",
    "import pyspark.sql.functions as funct\n",
    "import os\n",
    "\n",
    "\n",
    "path = \"C:/Users/scohe/Documents/GitHub/MasterIASD_Projet_CCF/prototype/input/\"\n",
    "partition_number = 1\n",
    "#conf.set('spark.driver.host', '127.0.0.1')\n",
    "#os.environ['PYSPARK_PYTHON'] = '/Users/ccompain/.pyenv/versions/miniconda3-latest/bin/python' # Needs to be explicitly provided as env. Otherwise workers run Python 2.7\n",
    "#os.environ['PYSPARK_DRIVER_PYTHON'] = 'jupyter'\n",
    "\n",
    "sc = SparkContext.getOrCreate()\n",
    "spark = SparkSession.builder\\\n",
    ".master(\"local\")\\\n",
    ".appName(\"pyspark-shell\")\\\n",
    ".config('spark.driver.host', '127.0.0.1')\\\n",
    ".config(\"spark.logConf\", \"true\").getOrCreate() #.config(\"spark.driver.memory\", \"16g\")\n",
    "#sqlContext = SQLContext(spark)\n",
    "#sqlContext.setConf(\"spark.sql.shuffle.partitions\", \"300\")\n",
    "#sqlContext.setConf(\"spark.default.parallelism\", \"300\")\n",
    "spark.sparkContext.setLogLevel(\"WARN\") "
   ]
  },
  {
   "cell_type": "code",
   "execution_count": 2,
   "metadata": {},
   "outputs": [
    {
     "name": "stdout",
     "output_type": "stream",
     "text": [
      "+---+---+\n",
      "| N1| N2|\n",
      "+---+---+\n",
      "|  0|  1|\n",
      "|  1|  2|\n",
      "|  1| 79|\n",
      "|  2|  3|\n",
      "|  2| 81|\n",
      "|  3|  4|\n",
      "|  4|  5|\n",
      "|  4| 83|\n",
      "|  5|  6|\n",
      "|  5| 84|\n",
      "|  6|  7|\n",
      "|  6| 86|\n",
      "|  7|  8|\n",
      "|  8|  9|\n",
      "|  9| 10|\n",
      "|  9| 87|\n",
      "| 10| 11|\n",
      "| 10| 88|\n",
      "| 11| 12|\n",
      "| 11| 89|\n",
      "+---+---+\n",
      "only showing top 20 rows\n",
      "\n"
     ]
    }
   ],
   "source": [
    "r =  spark.read\\\n",
    "            .format(\"csv\").option(\"header\", \"false\")\\\n",
    "            .option(\"inferSchema\", \"true\")\\\n",
    "            .load(path +\"simple_random_graph.csv\").toDF(\"N1\",\"N2\").coalesce(partition_number)\n",
    "#r=spark.createDataFrame([(\"A\",\"B\"),(\"B\",\"C\"),(\"B\",\"D\"),(\"D\",\"E\"),(\"F\",\"G\"),(\"G\",\"H\")]).toDF(\"N1\",\"N2\") \n",
    "#r.printSchema()\n",
    "r.show()\n",
    "#r.collect()"
   ]
  },
  {
   "cell_type": "code",
   "execution_count": 3,
   "metadata": {},
   "outputs": [],
   "source": [
    "log4jLogger = spark._jvm.org.apache.log4j\n",
    "LOGGER = log4jLogger.LogManager.getLogger(__name__)\n"
   ]
  },
  {
   "cell_type": "code",
   "execution_count": 4,
   "metadata": {},
   "outputs": [],
   "source": [
    "def min_reduce(N1,N2s):\n",
    "    min = N1\n",
    "    for value in N2s:\n",
    "        if int(value) < int(min):\n",
    "            min = value\n",
    "    return min\n",
    "udf_min_reduce = funct.udf(min_reduce)\n",
    "\n",
    "def suite_reduce(N1,Min,N2):\n",
    "    if int(Min)==int(N2):\n",
    "        return N1\n",
    "    else:\n",
    "        accum.add(1)\n",
    "        return N2\n",
    "udf_suite_reduce = funct.udf(suite_reduce)\n"
   ]
  },
  {
   "cell_type": "code",
   "execution_count": 5,
   "metadata": {},
   "outputs": [],
   "source": [
    "new_pair_flag = True\n",
    "iteration = 0\n",
    "dedupJob = r\n",
    "#newPairs=0\n",
    "accum = sc.accumulator(0)\n"
   ]
  },
  {
   "cell_type": "code",
   "execution_count": 13,
   "metadata": {},
   "outputs": [
    {
     "name": "stdout",
     "output_type": "stream",
     "text": [
      "400\n"
     ]
    }
   ],
   "source": [
    "mapJob = dedupJob.union(dedupJob.select('N2', 'N1'))#.persist(storage_level)\n",
    "reduceJob=mapJob.groupby(\"N1\").agg(funct.collect_set(\"N2\").alias('N2s'))\\\n",
    "    .withColumn('MinN',udf_min_reduce('N1','N2s')).where('MinN<N1')\\\n",
    "    .withColumn('N2',funct.explode(\"N2s\").alias('N2'))\\\n",
    "    .withColumn('NewN1',udf_suite_reduce('N1','MinN','N2'))\\\n",
    "    .select('NewN1','minN').withColumnRenamed('NewN1','N1').withColumnRenamed('minN','N2').persist()\n",
    "dedupJob = reduceJob.distinct()#.persist(storage_level) #.orderBy(\"N1\", \"N2\")\n",
    "mapJob = dedupJob.union(dedupJob.select('N2', 'N1'))#.persist(storage_level)\n",
    "    \n",
    "print(mapJob.rdd.glom().getNumPartitions())"
   ]
  },
  {
   "cell_type": "code",
   "execution_count": null,
   "metadata": {
    "scrolled": true,
    "tags": []
   },
   "outputs": [],
   "source": [
    "while new_pair_flag:\n",
    "    iteration += 1\n",
    "    newPair = False\n",
    "    accum.value = 0\n",
    "\n",
    "    # CCF-iterate (MAP)\n",
    "    mapJob = dedupJob.union(dedupJob.select('N2', 'N1'))#.persist(storage_level)\n",
    "\n",
    "    # CCF-iterate (REDUCE)\n",
    "    reduceJob=mapJob.groupby(\"N1\").agg(funct.collect_set(\"N2\").alias('N2s'))\\\n",
    "    .withColumn('MinN',udf_min_reduce('N1','N2s')).where('MinN<N1')\\\n",
    "    .withColumn('N2',funct.explode(\"N2s\").alias('N2'))\\\n",
    "    .withColumn('NewN1',udf_suite_reduce('N1','MinN','N2'))\\\n",
    "    .select('NewN1','minN').withColumnRenamed('NewN1','N1').withColumnRenamed('minN','N2').persist()\n",
    "    \n",
    "    # CCF-dedup \n",
    "    dedupJob = reduceJob.distinct()#.persist(storage_level) #.orderBy(\"N1\", \"N2\")\n",
    "    # Force the RDD evalusation\n",
    "    tmp = dedupJob.count()\n",
    "\n",
    "    # Prepare next iteration\n",
    "    #mapJob = dedupJob\n",
    "    new_pair_flag = bool(accum.value)#newPairs)\n",
    "\n",
    "    #LOGGER.warn(\"Iteration :\"+str(iteration)+\" --- \"+\" newPair : \"+str(new_pair_flag))\n",
    "    print(\"Iteration :\"+str(iteration)+\" --- \"+\" newPairs : \"+str(accum.value))#newPairs))\n"
   ]
  },
  {
   "cell_type": "code",
   "execution_count": 8,
   "metadata": {},
   "outputs": [
    {
     "name": "stdout",
     "output_type": "stream",
     "text": [
      "+-----+--------------------+\n",
      "|Group|otherComponentsCount|\n",
      "+-----+--------------------+\n",
      "|    0|                 135|\n",
      "+-----+--------------------+\n",
      "\n",
      "None\n"
     ]
    }
   ],
   "source": [
    "#count1 = funct.udf(lambda s: s+1, IntegerType())\n",
    "#_ = spark.udf.register(\"count1\", count1)\n",
    "\n",
    "result= dedupJob.groupBy('N2').count().orderBy('count',ascending=False).withColumnRenamed('N2','Group').withColumnRenamed('count','otherComponentsCount') #.withColumn('nbComponents',count1('count')).select('N2','NbComponents').orderBy('NbComponents',ascending=False)\n",
    "print(result.show())\n"
   ]
  }
 ],
 "metadata": {
  "kernelspec": {
   "display_name": "Python 3",
   "language": "python",
   "name": "python3"
  },
  "language_info": {
   "codemirror_mode": {
    "name": "ipython",
    "version": 3
   },
   "file_extension": ".py",
   "mimetype": "text/x-python",
   "name": "python",
   "nbconvert_exporter": "python",
   "pygments_lexer": "ipython3",
   "version": "3.7.4"
  }
 },
 "nbformat": 4,
 "nbformat_minor": 2
}
