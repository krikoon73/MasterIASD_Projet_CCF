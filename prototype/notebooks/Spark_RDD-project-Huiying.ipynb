{
 "cells": [
  {
   "cell_type": "markdown",
   "metadata": {},
   "source": [
    "#### Project CCF pySpark RDD"
   ]
  },
  {
   "cell_type": "code",
   "execution_count": 2,
   "metadata": {},
   "outputs": [
    {
     "data": {
      "text/html": [
       "<style scoped>\n",
       "  .ansiout {\n",
       "    display: block;\n",
       "    unicode-bidi: embed;\n",
       "    white-space: pre-wrap;\n",
       "    word-wrap: break-word;\n",
       "    word-break: break-all;\n",
       "    font-family: \"Source Code Pro\", \"Menlo\", monospace;;\n",
       "    font-size: 13px;\n",
       "    color: #555;\n",
       "    margin-left: 4px;\n",
       "    line-height: 19px;\n",
       "  }\n",
       "</style>\n",
       "<div class=\"ansiout\">Out[1]: 41306</div>"
      ]
     },
     "metadata": {},
     "output_type": "display_data"
    }
   ],
   "source": [
    "from itertools import islice\n",
    "g=sc.textFile(\"FileStore/tables/webGoogleS.txt\")\n",
    "#remove header 4 lines\n",
    "data= g.mapPartitionsWithIndex(lambda idx, it: islice(it, 4, None) if idx == 0 else it)\n",
    "data.count()"
   ]
  },
  {
   "cell_type": "code",
   "execution_count": 3,
   "metadata": {},
   "outputs": [
    {
     "data": {
      "text/html": [
       "<style scoped>\n",
       "  .ansiout {\n",
       "    display: block;\n",
       "    unicode-bidi: embed;\n",
       "    white-space: pre-wrap;\n",
       "    word-wrap: break-word;\n",
       "    word-break: break-all;\n",
       "    font-family: \"Source Code Pro\", \"Menlo\", monospace;;\n",
       "    font-size: 13px;\n",
       "    color: #555;\n",
       "    margin-left: 4px;\n",
       "    line-height: 19px;\n",
       "  }\n",
       "</style>\n",
       "<div class=\"ansiout\">Out[2]: [(&#39;0&#39;, &#39;11342&#39;),\n",
       " (&#39;0&#39;, &#39;824020&#39;),\n",
       " (&#39;0&#39;, &#39;867923&#39;),\n",
       " (&#39;0&#39;, &#39;891835&#39;),\n",
       " (&#39;11342&#39;, &#39;0&#39;)]</div>"
      ]
     },
     "metadata": {},
     "output_type": "display_data"
    }
   ],
   "source": [
    "pair = data.map(lambda x: x.split(\"\\t\")).map(lambda x: (x[0], x[1]))\n",
    "pair.take(5)"
   ]
  },
  {
   "cell_type": "code",
   "execution_count": 1,
   "metadata": {},
   "outputs": [],
   "source": [
    "import findspark\n",
    "findspark.init()\n",
    "from pyspark.sql import SparkSession \n",
    "from pyspark import SparkConf,SparkContext\n",
    "import os\n",
    "\n",
    "conf = SparkConf()\n",
    "conf.setMaster('local')\n",
    "conf.setAppName('pyspark-shell')\n",
    "conf.set('spark.driver.host', '127.0.0.1')\n",
    "conf.set(\"spark.ui.proxyBase\", \"\")\n",
    "conf.set(\"spark.cores.max\",\"4\")\n",
    "conf.set(\"spark.executor.cores\",\"2\")\n",
    "os.environ['PYSPARK_PYTHON'] = '/Users/ccompain/.pyenv/versions/miniconda3-latest/bin/python' # Needs to be explicitly provided as env. Otherwise workers run Python 2.7\n",
    "os.environ['PYSPARK_DRIVER_PYTHON'] = 'jupyter' \n",
    "sc = SparkContext(conf=conf)"
   ]
  },
  {
   "cell_type": "code",
   "execution_count": 10,
   "metadata": {},
   "outputs": [],
   "source": [
    "def CCF_dedup(data):\n",
    "  dedup = data.map(lambda x: ((x[0],x[1]), 1))\\\n",
    "              .reduceByKey(lambda x,y: 1)\\\n",
    "              .map(lambda x: (x[0][0], x[0][1]))\n",
    "  return dedup\n",
    "\n",
    "def CCF_Iterate_map(pair):\n",
    "    #map\n",
    "    pair2=pair.map(lambda x: (x[1], x[0]))\n",
    "    map_pair=pair.union(pair2)\n",
    "    return map_pair\n",
    "\n",
    "def f(x): return x\n",
    "    \n",
    "def CCF_Iterate_reduce(data):\n",
    "    #find min value per key\n",
    "    #couple (key, min)\n",
    "    key_min=data.reduceByKey(lambda x,y: min(x,y)).filter(lambda x: x[0]>x[1])\n",
    "    #put together: in one command\n",
    "    valuelist_min=key_min.join(data).map(lambda x: (x[0],x[1][1])).cogroup(key_min).map(lambda x :(x[0], ( list(x[1][0]), list(x[1][1]))))\n",
    "    \n",
    "    #make RDD : (min, (list of value))\n",
    "    min_valuelist=valuelist_min.map(lambda x:(x[1][1][0], x[1][0]))\n",
    "\n",
    "    #use flatmapvalue to transform to RDD (min, value), then filter min != value, map to couple (value, min)\n",
    "\n",
    "    min_value=min_valuelist.flatMapValues(f).filter(lambda x: x[0]!=x[1]).map(lambda x: (x[1],x[0]))\n",
    "    countnewpair=min_value.count()\n",
    "\n",
    "    #union couple (key, min) and (value, min)\n",
    "    unionkeyminvalue=key_min.union(min_value)\n",
    "\n",
    "    return unionkeyminvalue,min_value\n",
    "  "
   ]
  },
  {
   "cell_type": "code",
   "execution_count": 3,
   "metadata": {},
   "outputs": [
    {
     "output_type": "execute_result",
     "data": {
      "text/plain": "[('A', 'B'), ('B', 'C'), ('B', 'D'), ('D', 'E'), ('F', 'G'), ('G', 'H')]"
     },
     "metadata": {},
     "execution_count": 3
    }
   ],
   "source": [
    "r=sc.parallelize([(\"A\",\"B\"),(\"B\",\"C\"),(\"B\",\"D\"),(\"D\",\"E\"),(\"F\",\"G\"),(\"G\",\"H\")])\n",
    "r.collect()"
   ]
  },
  {
   "cell_type": "markdown",
   "metadata": {},
   "source": [
    "## Iteration 1"
   ]
  },
  {
   "cell_type": "code",
   "execution_count": 4,
   "metadata": {},
   "outputs": [
    {
     "output_type": "execute_result",
     "data": {
      "text/plain": "[('A', 'B'),\n ('B', 'C'),\n ('B', 'D'),\n ('D', 'E'),\n ('F', 'G'),\n ('G', 'H'),\n ('B', 'A'),\n ('C', 'B'),\n ('D', 'B'),\n ('E', 'D'),\n ('G', 'F'),\n ('H', 'G')]"
     },
     "metadata": {},
     "execution_count": 4
    }
   ],
   "source": [
    "map1= CCF_Iterate_map(r)\n",
    "map1.collect()"
   ]
  },
  {
   "cell_type": "code",
   "execution_count": 15,
   "metadata": {},
   "outputs": [
    {
     "output_type": "execute_result",
     "data": {
      "text/plain": "[('C', 'B'),\n ('B', 'A'),\n ('D', 'B'),\n ('G', 'F'),\n ('E', 'D'),\n ('H', 'G'),\n ('H', 'F'),\n ('C', 'A'),\n ('D', 'A'),\n ('E', 'B')]"
     },
     "metadata": {},
     "execution_count": 15
    }
   ],
   "source": [
    "reduce1_tmp,new_pairs=CCF_Iterate_reduce(map1)\n",
    "reduce1_tmp.collect()"
   ]
  },
  {
   "cell_type": "code",
   "execution_count": 16,
   "metadata": {},
   "outputs": [
    {
     "output_type": "execute_result",
     "data": {
      "text/plain": "[('B', 'A'),\n ('H', 'F'),\n ('G', 'F'),\n ('D', 'A'),\n ('C', 'A'),\n ('E', 'D'),\n ('D', 'B'),\n ('H', 'G'),\n ('E', 'B'),\n ('C', 'B')]"
     },
     "metadata": {},
     "execution_count": 16
    }
   ],
   "source": [
    "reduce1=CCF_dedup(reduce1_tmp)\n",
    "reduce1.collect()"
   ]
  },
  {
   "cell_type": "code",
   "execution_count": 17,
   "metadata": {},
   "outputs": [
    {
     "output_type": "execute_result",
     "data": {
      "text/plain": "[('H', 'F'), ('C', 'A'), ('D', 'A'), ('E', 'B')]"
     },
     "metadata": {},
     "execution_count": 17
    }
   ],
   "source": [
    "new_pairs.collect()"
   ]
  },
  {
   "cell_type": "markdown",
   "metadata": {},
   "source": [
    "## Iteration 2"
   ]
  },
  {
   "cell_type": "code",
   "execution_count": 18,
   "metadata": {},
   "outputs": [
    {
     "output_type": "execute_result",
     "data": {
      "text/plain": "[('B', 'A'),\n ('H', 'F'),\n ('G', 'F'),\n ('D', 'A'),\n ('C', 'A'),\n ('E', 'D'),\n ('D', 'B'),\n ('H', 'G'),\n ('E', 'B'),\n ('C', 'B'),\n ('A', 'B'),\n ('F', 'H'),\n ('F', 'G'),\n ('A', 'D'),\n ('A', 'C'),\n ('D', 'E'),\n ('B', 'D'),\n ('G', 'H'),\n ('B', 'E'),\n ('B', 'C')]"
     },
     "metadata": {},
     "execution_count": 18
    }
   ],
   "source": [
    "map2= CCF_Iterate_map(reduce1)\n",
    "map2.collect()"
   ]
  },
  {
   "cell_type": "code",
   "execution_count": 20,
   "metadata": {},
   "outputs": [
    {
     "output_type": "execute_result",
     "data": {
      "text/plain": "[('B', 'A'),\n ('G', 'F'),\n ('D', 'A'),\n ('E', 'B'),\n ('H', 'F'),\n ('C', 'A'),\n ('H', 'F'),\n ('D', 'B'),\n ('G', 'F'),\n ('D', 'A'),\n ('E', 'A'),\n ('C', 'A'),\n ('B', 'A'),\n ('E', 'A'),\n ('B', 'A')]"
     },
     "metadata": {},
     "execution_count": 20
    }
   ],
   "source": [
    "reduce2_tmp,new_pairs=CCF_Iterate_reduce(map2)\n",
    "reduce2_tmp.collect()"
   ]
  },
  {
   "cell_type": "code",
   "execution_count": 21,
   "metadata": {},
   "outputs": [
    {
     "output_type": "execute_result",
     "data": {
      "text/plain": "[('H', 'F'),\n ('D', 'B'),\n ('G', 'F'),\n ('D', 'A'),\n ('E', 'A'),\n ('C', 'A'),\n ('B', 'A'),\n ('E', 'A'),\n ('B', 'A')]"
     },
     "metadata": {},
     "execution_count": 21
    }
   ],
   "source": [
    "new_pairs.collect()"
   ]
  },
  {
   "cell_type": "code",
   "execution_count": 22,
   "metadata": {},
   "outputs": [
    {
     "output_type": "execute_result",
     "data": {
      "text/plain": "[('H', 'F'),\n ('B', 'A'),\n ('C', 'A'),\n ('D', 'A'),\n ('E', 'A'),\n ('G', 'F'),\n ('D', 'B')]"
     },
     "metadata": {},
     "execution_count": 22
    }
   ],
   "source": [
    "new_pairs_non_dedup=CCF_dedup(new_pairs)\n",
    "new_pairs_non_dedup.collect()"
   ]
  },
  {
   "cell_type": "code",
   "execution_count": 23,
   "metadata": {},
   "outputs": [
    {
     "output_type": "execute_result",
     "data": {
      "text/plain": "[('D', 'A'),\n ('E', 'A'),\n ('G', 'F'),\n ('H', 'F'),\n ('B', 'A'),\n ('C', 'A'),\n ('E', 'B'),\n ('D', 'B')]"
     },
     "metadata": {},
     "execution_count": 23
    }
   ],
   "source": [
    "reduce2=CCF_dedup(reduce2_tmp)\n",
    "reduce2.collect()"
   ]
  },
  {
   "cell_type": "markdown",
   "metadata": {},
   "source": [
    "## Iteration 3"
   ]
  },
  {
   "cell_type": "code",
   "execution_count": 25,
   "metadata": {},
   "outputs": [
    {
     "output_type": "execute_result",
     "data": {
      "text/plain": "[('D', 'A'),\n ('E', 'A'),\n ('G', 'F'),\n ('H', 'F'),\n ('B', 'A'),\n ('C', 'A'),\n ('E', 'B'),\n ('D', 'B'),\n ('A', 'D'),\n ('A', 'E'),\n ('F', 'G'),\n ('F', 'H'),\n ('A', 'B'),\n ('A', 'C'),\n ('B', 'E'),\n ('B', 'D')]"
     },
     "metadata": {},
     "execution_count": 25
    }
   ],
   "source": [
    "map3= CCF_Iterate_map(reduce2)\n",
    "map3.collect()"
   ]
  },
  {
   "cell_type": "code",
   "execution_count": 26,
   "metadata": {},
   "outputs": [
    {
     "output_type": "execute_result",
     "data": {
      "text/plain": "[('D', 'A'),\n ('E', 'A'),\n ('H', 'F'),\n ('B', 'A'),\n ('G', 'F'),\n ('C', 'A'),\n ('B', 'A'),\n ('E', 'A'),\n ('D', 'A'),\n ('B', 'A')]"
     },
     "metadata": {},
     "execution_count": 26
    }
   ],
   "source": [
    "reduce3_tmp,new_pairs=CCF_Iterate_reduce(map3)\n",
    "reduce3_tmp.collect()"
   ]
  },
  {
   "cell_type": "code",
   "execution_count": 27,
   "metadata": {},
   "outputs": [
    {
     "output_type": "execute_result",
     "data": {
      "text/plain": "[('B', 'A'), ('E', 'A'), ('D', 'A'), ('B', 'A')]"
     },
     "metadata": {},
     "execution_count": 27
    }
   ],
   "source": [
    "new_pairs.collect()"
   ]
  },
  {
   "cell_type": "code",
   "execution_count": 30,
   "metadata": {},
   "outputs": [
    {
     "output_type": "execute_result",
     "data": {
      "text/plain": "[('E', 'A'), ('D', 'A'), ('B', 'A')]"
     },
     "metadata": {},
     "execution_count": 30
    }
   ],
   "source": [
    "new_pairs_non_dedup=CCF_dedup(new_pairs)\n",
    "new_pairs_non_dedup.collect()"
   ]
  },
  {
   "cell_type": "code",
   "execution_count": 31,
   "metadata": {},
   "outputs": [
    {
     "output_type": "execute_result",
     "data": {
      "text/plain": "[('H', 'F'), ('G', 'F'), ('C', 'A'), ('E', 'A'), ('D', 'A'), ('B', 'A')]"
     },
     "metadata": {},
     "execution_count": 31
    }
   ],
   "source": [
    "reduce3=CCF_dedup(reduce3_tmp)\n",
    "reduce3.collect()"
   ]
  },
  {
   "cell_type": "markdown",
   "metadata": {},
   "source": [
    "## Iteration 4"
   ]
  },
  {
   "cell_type": "code",
   "execution_count": 33,
   "metadata": {},
   "outputs": [
    {
     "output_type": "execute_result",
     "data": {
      "text/plain": "[('H', 'F'),\n ('G', 'F'),\n ('C', 'A'),\n ('E', 'A'),\n ('D', 'A'),\n ('B', 'A'),\n ('F', 'H'),\n ('F', 'G'),\n ('A', 'C'),\n ('A', 'E'),\n ('A', 'D'),\n ('A', 'B')]"
     },
     "metadata": {},
     "execution_count": 33
    }
   ],
   "source": [
    "map4= CCF_Iterate_map(reduce3)\n",
    "map4.collect()"
   ]
  },
  {
   "cell_type": "code",
   "execution_count": 34,
   "metadata": {},
   "outputs": [
    {
     "output_type": "execute_result",
     "data": {
      "text/plain": "[('D', 'A'), ('E', 'A'), ('H', 'F'), ('B', 'A'), ('G', 'F'), ('C', 'A')]"
     },
     "metadata": {},
     "execution_count": 34
    }
   ],
   "source": [
    "reduce4_tmp,new_pairs=CCF_Iterate_reduce(map4)\n",
    "reduce4_tmp.collect()"
   ]
  },
  {
   "cell_type": "code",
   "execution_count": 35,
   "metadata": {},
   "outputs": [
    {
     "output_type": "execute_result",
     "data": {
      "text/plain": "[]"
     },
     "metadata": {},
     "execution_count": 35
    }
   ],
   "source": [
    "new_pairs.collect()"
   ]
  },
  {
   "cell_type": "code",
   "execution_count": 36,
   "metadata": {},
   "outputs": [
    {
     "output_type": "execute_result",
     "data": {
      "text/plain": "[('G', 'F'), ('E', 'A'), ('H', 'F'), ('D', 'A'), ('B', 'A'), ('C', 'A')]"
     },
     "metadata": {},
     "execution_count": 36
    }
   ],
   "source": [
    "reduce4=CCF_dedup(reduce4_tmp)\n",
    "reduce4.collect()"
   ]
  },
  {
   "cell_type": "markdown",
   "metadata": {},
   "source": [
    "## STOP ALGO"
   ]
  },
  {
   "cell_type": "code",
   "execution_count": 38,
   "metadata": {
    "tags": []
   },
   "outputs": [
    {
     "output_type": "stream",
     "name": "stdout",
     "text": "[('B', 'A'), ('H', 'F'), ('G', 'F'), ('D', 'A'), ('C', 'A'), ('E', 'D'), ('D', 'B'), ('H', 'G'), ('E', 'B'), ('C', 'B')]\n[('D', 'A'), ('E', 'A'), ('G', 'F'), ('H', 'F'), ('B', 'A'), ('C', 'A'), ('E', 'B'), ('D', 'B')]\n[('H', 'F'), ('G', 'F'), ('C', 'A'), ('E', 'A'), ('D', 'A'), ('B', 'A')]\n[('G', 'F'), ('E', 'A'), ('H', 'F'), ('D', 'A'), ('B', 'A'), ('C', 'A')]\n"
    }
   ],
   "source": [
    "print(reduce1.collect())\n",
    "print(reduce2.collect())\n",
    "print(reduce3.collect())\n",
    "print(reduce4.collect())"
   ]
  },
  {
   "cell_type": "markdown",
   "metadata": {},
   "source": [
    "# TEST UNITAIRES"
   ]
  },
  {
   "cell_type": "code",
   "execution_count": 5,
   "metadata": {},
   "outputs": [
    {
     "output_type": "execute_result",
     "data": {
      "text/plain": "[('C', 'B'), ('B', 'A'), ('D', 'B'), ('G', 'F'), ('E', 'D'), ('H', 'G')]"
     },
     "metadata": {},
     "execution_count": 5
    }
   ],
   "source": [
    "key_min=map1.reduceByKey(lambda x,y: min(x,y)).filter(lambda x: x[0]>x[1])\n",
    "key_min.collect()\n",
    "\n",
    "\n"
   ]
  },
  {
   "cell_type": "code",
   "execution_count": 6,
   "metadata": {},
   "outputs": [
    {
     "output_type": "execute_result",
     "data": {
      "text/plain": "[('C', (['B'], ['B'])),\n ('H', (['G'], ['G'])),\n ('G', (['H', 'F'], ['F'])),\n ('B', (['C', 'D', 'A'], ['A'])),\n ('D', (['E', 'B'], ['B'])),\n ('E', (['D'], ['D']))]"
     },
     "metadata": {},
     "execution_count": 6
    }
   ],
   "source": [
    "valuelist_min=key_min.join(map1).map(lambda x: (x[0],x[1][1])).cogroup(key_min).map(lambda x :(x[0], ( list(x[1][0]), list(x[1][1]))))\n",
    "valuelist_min.collect()"
   ]
  },
  {
   "cell_type": "code",
   "execution_count": 7,
   "metadata": {},
   "outputs": [
    {
     "output_type": "execute_result",
     "data": {
      "text/plain": "[('H', 'F'), ('C', 'A'), ('D', 'A'), ('E', 'B')]"
     },
     "metadata": {},
     "execution_count": 7
    }
   ],
   "source": [
    "min_valuelist=valuelist_min.map(lambda x:(x[1][1][0], x[1][0]))\n",
    "#min_valuelist.take(10)\n",
    "#use flatmapvalue to transform to RDD (min, value), then filter min != value, map to couple (value, min)\n",
    "def f(x): return x\n",
    "min_value=min_valuelist.flatMapValues(f).filter(lambda x: x[0]!=x[1]).map(lambda x: (x[1],x[0]))\n",
    "countnewpair=min_value.count()\n",
    "min_value.collect()"
   ]
  },
  {
   "cell_type": "code",
   "execution_count": 8,
   "metadata": {},
   "outputs": [
    {
     "output_type": "execute_result",
     "data": {
      "text/plain": "[('C', 'B'),\n ('B', 'A'),\n ('D', 'B'),\n ('G', 'F'),\n ('E', 'D'),\n ('H', 'G'),\n ('H', 'F'),\n ('C', 'A'),\n ('D', 'A'),\n ('E', 'B')]"
     },
     "metadata": {},
     "execution_count": 8
    }
   ],
   "source": [
    "unionkeyminvalue=key_min.union(min_value)\n",
    "unionkeyminvalue.collect()"
   ]
  },
  {
   "cell_type": "code",
   "execution_count": null,
   "metadata": {},
   "outputs": [],
   "source": []
  }
 ],
 "metadata": {
  "kernelspec": {
   "display_name": "Python 3",
   "language": "python",
   "name": "python3"
  },
  "language_info": {
   "codemirror_mode": {
    "name": "ipython",
    "version": 3
   },
   "file_extension": ".py",
   "mimetype": "text/x-python",
   "name": "python",
   "nbconvert_exporter": "python",
   "pygments_lexer": "ipython3",
   "version": "3.7.6-final"
  },
  "name": "Spark_RDD project",
  "notebookId": 3156448150564147
 },
 "nbformat": 4,
 "nbformat_minor": 1
}